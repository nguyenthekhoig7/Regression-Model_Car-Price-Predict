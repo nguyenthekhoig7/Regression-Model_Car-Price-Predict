{
 "cells": [
  {
   "cell_type": "code",
   "execution_count": 1,
   "id": "b138d900",
   "metadata": {
    "_cell_guid": "b1076dfc-b9ad-4769-8c92-a6c4dae69d19",
    "_uuid": "8f2839f25d086af736a60e9eeb907d3b93b6e0e5",
    "execution": {
     "iopub.execute_input": "2022-05-30T05:32:59.717094Z",
     "iopub.status.busy": "2022-05-30T05:32:59.716428Z",
     "iopub.status.idle": "2022-05-30T05:32:59.735248Z",
     "shell.execute_reply": "2022-05-30T05:32:59.734541Z"
    },
    "papermill": {
     "duration": 0.054837,
     "end_time": "2022-05-30T05:32:59.738335",
     "exception": false,
     "start_time": "2022-05-30T05:32:59.683498",
     "status": "completed"
    },
    "tags": []
   },
   "outputs": [
    {
     "name": "stdout",
     "output_type": "stream",
     "text": [
      "/kaggle/input/airesidency/sample.csv\n",
      "/kaggle/input/airesidency/train.csv\n",
      "/kaggle/input/airesidency/test.csv\n"
     ]
    }
   ],
   "source": [
    "# This Python 3 environment comes with many helpful analytics libraries installed\n",
    "# It is defined by the kaggle/python Docker image: https://github.com/kaggle/docker-python\n",
    "# For example, here's several helpful packages to load\n",
    "\n",
    "import numpy as np # linear algebra\n",
    "import pandas as pd # data processing, CSV file I/O (e.g. pd.read_csv)\n",
    "\n",
    "# Input data files are available in the read-only \"../input/\" directory\n",
    "# For example, running this (by clicking run or pressing Shift+Enter) will list all files under the input directory\n",
    "\n",
    "import os\n",
    "for dirname, _, filenames in os.walk('/kaggle/input'):\n",
    "    for filename in filenames:\n",
    "        print(os.path.join(dirname, filename))\n",
    "\n",
    "# You can write up to 20GB to the current directory (/kaggle/working/) that gets preserved as output when you create a version using \"Save & Run All\" \n",
    "# You can also write temporary files to /kaggle/temp/, but they won't be saved outside of the current session"
   ]
  },
  {
   "cell_type": "markdown",
   "id": "6bab71c3",
   "metadata": {
    "papermill": {
     "duration": 0.030754,
     "end_time": "2022-05-30T05:32:59.800150",
     "exception": false,
     "start_time": "2022-05-30T05:32:59.769396",
     "status": "completed"
    },
    "tags": []
   },
   "source": [
    "## 1. Import, View data"
   ]
  },
  {
   "cell_type": "code",
   "execution_count": 2,
   "id": "1dd43f8e",
   "metadata": {
    "execution": {
     "iopub.execute_input": "2022-05-30T05:32:59.863858Z",
     "iopub.status.busy": "2022-05-30T05:32:59.863288Z",
     "iopub.status.idle": "2022-05-30T05:32:59.909574Z",
     "shell.execute_reply": "2022-05-30T05:32:59.908830Z"
    },
    "papermill": {
     "duration": 0.080211,
     "end_time": "2022-05-30T05:32:59.911480",
     "exception": false,
     "start_time": "2022-05-30T05:32:59.831269",
     "status": "completed"
    },
    "tags": []
   },
   "outputs": [
    {
     "data": {
      "text/plain": [
       "Index(['name', 'year', 'selling_price', 'km_driven', 'fuel', 'seller_type',\n",
       "       'transmission', 'owner', 'mileage', 'engine', 'max_power', 'torque',\n",
       "       'seats'],\n",
       "      dtype='object')"
      ]
     },
     "execution_count": 2,
     "metadata": {},
     "output_type": "execute_result"
    }
   ],
   "source": [
    "train_df = pd.read_csv('../input/airesidency/train.csv', sep=';')\n",
    "\n",
    "# sample_df = pd.read_csv('../input/airesidency/sample.csv',on_bad_lines='skip')\n",
    "\n",
    "train_df.columns"
   ]
  },
  {
   "cell_type": "code",
   "execution_count": 3,
   "id": "e90781b5",
   "metadata": {
    "execution": {
     "iopub.execute_input": "2022-05-30T05:32:59.976229Z",
     "iopub.status.busy": "2022-05-30T05:32:59.975628Z",
     "iopub.status.idle": "2022-05-30T05:33:00.006600Z",
     "shell.execute_reply": "2022-05-30T05:33:00.005980Z"
    },
    "papermill": {
     "duration": 0.065298,
     "end_time": "2022-05-30T05:33:00.008403",
     "exception": false,
     "start_time": "2022-05-30T05:32:59.943105",
     "status": "completed"
    },
    "tags": []
   },
   "outputs": [
    {
     "data": {
      "text/html": [
       "<div>\n",
       "<style scoped>\n",
       "    .dataframe tbody tr th:only-of-type {\n",
       "        vertical-align: middle;\n",
       "    }\n",
       "\n",
       "    .dataframe tbody tr th {\n",
       "        vertical-align: top;\n",
       "    }\n",
       "\n",
       "    .dataframe thead th {\n",
       "        text-align: right;\n",
       "    }\n",
       "</style>\n",
       "<table border=\"1\" class=\"dataframe\">\n",
       "  <thead>\n",
       "    <tr style=\"text-align: right;\">\n",
       "      <th></th>\n",
       "      <th>name</th>\n",
       "      <th>year</th>\n",
       "      <th>selling_price</th>\n",
       "      <th>km_driven</th>\n",
       "      <th>fuel</th>\n",
       "      <th>seller_type</th>\n",
       "      <th>transmission</th>\n",
       "      <th>owner</th>\n",
       "      <th>mileage</th>\n",
       "      <th>engine</th>\n",
       "      <th>max_power</th>\n",
       "      <th>torque</th>\n",
       "      <th>seats</th>\n",
       "    </tr>\n",
       "  </thead>\n",
       "  <tbody>\n",
       "    <tr>\n",
       "      <th>0</th>\n",
       "      <td>Tata Nexon 1.5 Revotorq XM</td>\n",
       "      <td>2018</td>\n",
       "      <td>850000</td>\n",
       "      <td>9500</td>\n",
       "      <td>Diesel</td>\n",
       "      <td>Individual</td>\n",
       "      <td>Manual</td>\n",
       "      <td>First Owner</td>\n",
       "      <td>21.5 kmpl</td>\n",
       "      <td>1497 CC</td>\n",
       "      <td>108.5 bhp</td>\n",
       "      <td>260Nm@ 1500-2750rpm</td>\n",
       "      <td>5.0</td>\n",
       "    </tr>\n",
       "    <tr>\n",
       "      <th>1</th>\n",
       "      <td>Hyundai i20 Active SX Diesel</td>\n",
       "      <td>2018</td>\n",
       "      <td>750000</td>\n",
       "      <td>30000</td>\n",
       "      <td>Diesel</td>\n",
       "      <td>Individual</td>\n",
       "      <td>Manual</td>\n",
       "      <td>First Owner</td>\n",
       "      <td>21.19 kmpl</td>\n",
       "      <td>1396 CC</td>\n",
       "      <td>88.76 bhp</td>\n",
       "      <td>219.66nm@ 1500-2750rpm</td>\n",
       "      <td>5.0</td>\n",
       "    </tr>\n",
       "    <tr>\n",
       "      <th>2</th>\n",
       "      <td>Toyota Fortuner 4x2 AT</td>\n",
       "      <td>2015</td>\n",
       "      <td>1500000</td>\n",
       "      <td>80000</td>\n",
       "      <td>Diesel</td>\n",
       "      <td>Individual</td>\n",
       "      <td>Automatic</td>\n",
       "      <td>Second Owner</td>\n",
       "      <td>12.55 kmpl</td>\n",
       "      <td>2982 CC</td>\n",
       "      <td>168.5 bhp</td>\n",
       "      <td>360Nm@ 1400-3200rpm</td>\n",
       "      <td>7.0</td>\n",
       "    </tr>\n",
       "    <tr>\n",
       "      <th>3</th>\n",
       "      <td>Hyundai Verna 1.6 VTVT SX</td>\n",
       "      <td>2015</td>\n",
       "      <td>795000</td>\n",
       "      <td>35000</td>\n",
       "      <td>Petrol</td>\n",
       "      <td>Individual</td>\n",
       "      <td>Manual</td>\n",
       "      <td>First Owner</td>\n",
       "      <td>17.01 kmpl</td>\n",
       "      <td>1591 CC</td>\n",
       "      <td>121.3 bhp</td>\n",
       "      <td>154.9Nm@ 4200rpm</td>\n",
       "      <td>5.0</td>\n",
       "    </tr>\n",
       "    <tr>\n",
       "      <th>4</th>\n",
       "      <td>Volvo XC40 D4 Inscription BSIV</td>\n",
       "      <td>2019</td>\n",
       "      <td>3800000</td>\n",
       "      <td>20000</td>\n",
       "      <td>Diesel</td>\n",
       "      <td>Individual</td>\n",
       "      <td>Automatic</td>\n",
       "      <td>First Owner</td>\n",
       "      <td>18.0 kmpl</td>\n",
       "      <td>1969 CC</td>\n",
       "      <td>190 bhp</td>\n",
       "      <td>400Nm</td>\n",
       "      <td>5.0</td>\n",
       "    </tr>\n",
       "    <tr>\n",
       "      <th>...</th>\n",
       "      <td>...</td>\n",
       "      <td>...</td>\n",
       "      <td>...</td>\n",
       "      <td>...</td>\n",
       "      <td>...</td>\n",
       "      <td>...</td>\n",
       "      <td>...</td>\n",
       "      <td>...</td>\n",
       "      <td>...</td>\n",
       "      <td>...</td>\n",
       "      <td>...</td>\n",
       "      <td>...</td>\n",
       "      <td>...</td>\n",
       "    </tr>\n",
       "    <tr>\n",
       "      <th>5995</th>\n",
       "      <td>Maruti A-Star Lxi</td>\n",
       "      <td>2010</td>\n",
       "      <td>235000</td>\n",
       "      <td>50000</td>\n",
       "      <td>Petrol</td>\n",
       "      <td>Individual</td>\n",
       "      <td>Manual</td>\n",
       "      <td>First Owner</td>\n",
       "      <td>19.0 kmpl</td>\n",
       "      <td>998 CC</td>\n",
       "      <td>66.1 bhp</td>\n",
       "      <td>90Nm@ 3500rpm</td>\n",
       "      <td>5.0</td>\n",
       "    </tr>\n",
       "    <tr>\n",
       "      <th>5996</th>\n",
       "      <td>Maruti Wagon R LXI CNG</td>\n",
       "      <td>2018</td>\n",
       "      <td>390000</td>\n",
       "      <td>40000</td>\n",
       "      <td>CNG</td>\n",
       "      <td>Individual</td>\n",
       "      <td>Manual</td>\n",
       "      <td>First Owner</td>\n",
       "      <td>26.6 km/kg</td>\n",
       "      <td>998 CC</td>\n",
       "      <td>58.16 bhp</td>\n",
       "      <td>77Nm@ 3500rpm</td>\n",
       "      <td>5.0</td>\n",
       "    </tr>\n",
       "    <tr>\n",
       "      <th>5997</th>\n",
       "      <td>Tata Tigor 1.2 Revotron XT</td>\n",
       "      <td>2018</td>\n",
       "      <td>450000</td>\n",
       "      <td>75000</td>\n",
       "      <td>Petrol</td>\n",
       "      <td>Individual</td>\n",
       "      <td>Manual</td>\n",
       "      <td>First Owner</td>\n",
       "      <td>20.3 kmpl</td>\n",
       "      <td>1199 CC</td>\n",
       "      <td>84 bhp</td>\n",
       "      <td>114Nm@ 3500rpm</td>\n",
       "      <td>5.0</td>\n",
       "    </tr>\n",
       "    <tr>\n",
       "      <th>5998</th>\n",
       "      <td>Mahindra Bolero 2011-2019 DI NON AC BS III White</td>\n",
       "      <td>2011</td>\n",
       "      <td>250000</td>\n",
       "      <td>100000</td>\n",
       "      <td>Diesel</td>\n",
       "      <td>Individual</td>\n",
       "      <td>Manual</td>\n",
       "      <td>Second Owner</td>\n",
       "      <td>15.96 kmpl</td>\n",
       "      <td>2523 CC</td>\n",
       "      <td>63 bhp</td>\n",
       "      <td>180Nm@ 1440-1500rpm</td>\n",
       "      <td>9.0</td>\n",
       "    </tr>\n",
       "    <tr>\n",
       "      <th>5999</th>\n",
       "      <td>Honda Amaze SX i-DTEC</td>\n",
       "      <td>2016</td>\n",
       "      <td>550000</td>\n",
       "      <td>35000</td>\n",
       "      <td>Diesel</td>\n",
       "      <td>Individual</td>\n",
       "      <td>Manual</td>\n",
       "      <td>First Owner</td>\n",
       "      <td>25.8 kmpl</td>\n",
       "      <td>1498 CC</td>\n",
       "      <td>98.6 bhp</td>\n",
       "      <td>200Nm@ 1750rpm</td>\n",
       "      <td>5.0</td>\n",
       "    </tr>\n",
       "  </tbody>\n",
       "</table>\n",
       "<p>6000 rows × 13 columns</p>\n",
       "</div>"
      ],
      "text/plain": [
       "                                                  name  year  selling_price  \\\n",
       "0                           Tata Nexon 1.5 Revotorq XM  2018         850000   \n",
       "1                         Hyundai i20 Active SX Diesel  2018         750000   \n",
       "2                               Toyota Fortuner 4x2 AT  2015        1500000   \n",
       "3                            Hyundai Verna 1.6 VTVT SX  2015         795000   \n",
       "4                       Volvo XC40 D4 Inscription BSIV  2019        3800000   \n",
       "...                                                ...   ...            ...   \n",
       "5995                                 Maruti A-Star Lxi  2010         235000   \n",
       "5996                            Maruti Wagon R LXI CNG  2018         390000   \n",
       "5997                        Tata Tigor 1.2 Revotron XT  2018         450000   \n",
       "5998  Mahindra Bolero 2011-2019 DI NON AC BS III White  2011         250000   \n",
       "5999                             Honda Amaze SX i-DTEC  2016         550000   \n",
       "\n",
       "      km_driven    fuel seller_type transmission         owner     mileage  \\\n",
       "0          9500  Diesel  Individual       Manual   First Owner   21.5 kmpl   \n",
       "1         30000  Diesel  Individual       Manual   First Owner  21.19 kmpl   \n",
       "2         80000  Diesel  Individual    Automatic  Second Owner  12.55 kmpl   \n",
       "3         35000  Petrol  Individual       Manual   First Owner  17.01 kmpl   \n",
       "4         20000  Diesel  Individual    Automatic   First Owner   18.0 kmpl   \n",
       "...         ...     ...         ...          ...           ...         ...   \n",
       "5995      50000  Petrol  Individual       Manual   First Owner   19.0 kmpl   \n",
       "5996      40000     CNG  Individual       Manual   First Owner  26.6 km/kg   \n",
       "5997      75000  Petrol  Individual       Manual   First Owner   20.3 kmpl   \n",
       "5998     100000  Diesel  Individual       Manual  Second Owner  15.96 kmpl   \n",
       "5999      35000  Diesel  Individual       Manual   First Owner   25.8 kmpl   \n",
       "\n",
       "       engine  max_power                  torque  seats  \n",
       "0     1497 CC  108.5 bhp     260Nm@ 1500-2750rpm    5.0  \n",
       "1     1396 CC  88.76 bhp  219.66nm@ 1500-2750rpm    5.0  \n",
       "2     2982 CC  168.5 bhp     360Nm@ 1400-3200rpm    7.0  \n",
       "3     1591 CC  121.3 bhp        154.9Nm@ 4200rpm    5.0  \n",
       "4     1969 CC    190 bhp                   400Nm    5.0  \n",
       "...       ...        ...                     ...    ...  \n",
       "5995   998 CC   66.1 bhp           90Nm@ 3500rpm    5.0  \n",
       "5996   998 CC  58.16 bhp           77Nm@ 3500rpm    5.0  \n",
       "5997  1199 CC     84 bhp          114Nm@ 3500rpm    5.0  \n",
       "5998  2523 CC     63 bhp     180Nm@ 1440-1500rpm    9.0  \n",
       "5999  1498 CC   98.6 bhp          200Nm@ 1750rpm    5.0  \n",
       "\n",
       "[6000 rows x 13 columns]"
      ]
     },
     "execution_count": 3,
     "metadata": {},
     "output_type": "execute_result"
    }
   ],
   "source": [
    "train_df"
   ]
  },
  {
   "cell_type": "code",
   "execution_count": 4,
   "id": "4c617f2a",
   "metadata": {
    "execution": {
     "iopub.execute_input": "2022-05-30T05:33:00.074697Z",
     "iopub.status.busy": "2022-05-30T05:33:00.074131Z",
     "iopub.status.idle": "2022-05-30T05:33:00.077408Z",
     "shell.execute_reply": "2022-05-30T05:33:00.076829Z"
    },
    "papermill": {
     "duration": 0.038346,
     "end_time": "2022-05-30T05:33:00.079259",
     "exception": false,
     "start_time": "2022-05-30T05:33:00.040913",
     "status": "completed"
    },
    "tags": []
   },
   "outputs": [],
   "source": [
    "## EXTRACT `COMPANY` FROM `NAME` \n",
    "# names = train_df['name'].str.split()\n",
    "# # company = i[0] for i in names\n",
    "# company = []\n",
    "# for i in names:\n",
    "#     company.append(i[0])\n",
    "    \n",
    "# company\n",
    "# train_df['company'] = company\n",
    "# train_df\n",
    "# len(train_df['company'].unique())"
   ]
  },
  {
   "cell_type": "code",
   "execution_count": 5,
   "id": "f26b4a92",
   "metadata": {
    "execution": {
     "iopub.execute_input": "2022-05-30T05:33:00.148056Z",
     "iopub.status.busy": "2022-05-30T05:33:00.147494Z",
     "iopub.status.idle": "2022-05-30T05:33:00.153967Z",
     "shell.execute_reply": "2022-05-30T05:33:00.153263Z"
    },
    "papermill": {
     "duration": 0.043992,
     "end_time": "2022-05-30T05:33:00.156622",
     "exception": false,
     "start_time": "2022-05-30T05:33:00.112630",
     "status": "completed"
    },
    "tags": []
   },
   "outputs": [],
   "source": [
    "def correct_mileage(df): # to be used in the clean_cols function\n",
    "    Correct_Mileage= []\n",
    "    for i in df.mileage:\n",
    "        if str(i).endswith('km/kg'):\n",
    "            i = i[:-6]\n",
    "            i = float(i)*1.40\n",
    "            Correct_Mileage.append(float(i))\n",
    "        elif str(i).endswith('kmpl'):\n",
    "            i = i[:-6]\n",
    "            #print(i)\n",
    "            Correct_Mileage.append(float(i))\n",
    "        else:\n",
    "            Correct_Mileage.append(Correct_Mileage[-1])\n",
    "    return Correct_Mileage"
   ]
  },
  {
   "cell_type": "code",
   "execution_count": 6,
   "id": "b818d5ae",
   "metadata": {
    "execution": {
     "iopub.execute_input": "2022-05-30T05:33:00.225851Z",
     "iopub.status.busy": "2022-05-30T05:33:00.225278Z",
     "iopub.status.idle": "2022-05-30T05:33:00.229737Z",
     "shell.execute_reply": "2022-05-30T05:33:00.229042Z"
    },
    "papermill": {
     "duration": 0.041302,
     "end_time": "2022-05-30T05:33:00.231852",
     "exception": false,
     "start_time": "2022-05-30T05:33:00.190550",
     "status": "completed"
    },
    "tags": []
   },
   "outputs": [],
   "source": [
    "def create_dummies(df, col): # to be used in the clean_cols function\n",
    "    dummies = pd.get_dummies(df[col])\n",
    "    df = df.drop(col, axis=1)\n",
    "    df = df.join(dummies)\n",
    "    return df"
   ]
  },
  {
   "cell_type": "code",
   "execution_count": 7,
   "id": "2d50171a",
   "metadata": {
    "execution": {
     "iopub.execute_input": "2022-05-30T05:33:00.297231Z",
     "iopub.status.busy": "2022-05-30T05:33:00.296665Z",
     "iopub.status.idle": "2022-05-30T05:33:00.303350Z",
     "shell.execute_reply": "2022-05-30T05:33:00.302615Z"
    },
    "papermill": {
     "duration": 0.042048,
     "end_time": "2022-05-30T05:33:00.305761",
     "exception": false,
     "start_time": "2022-05-30T05:33:00.263713",
     "status": "completed"
    },
    "tags": []
   },
   "outputs": [],
   "source": [
    "def correct_torque(df):  # to be used in the clean_cols function\n",
    "    Correct_Torque= []\n",
    "    for i in df.torque:\n",
    "        if str(i).endswith('NM') or str(i).endswith('nM') or str(i).endswith('Nm')  or str(i).endswith('nm') :\n",
    "            Correct_Torque.append(i)\n",
    "        elif str(i).endswith('kgm')or str(i).endswith('KGM'):\n",
    "            i = i[:-3]\n",
    "            #print(i)\n",
    "            Correct_Torque.append(i)\n",
    "        else:\n",
    "            Correct_Torque.append(Correct_Torque[-1])\n",
    "    return Correct_Torque"
   ]
  },
  {
   "cell_type": "code",
   "execution_count": 8,
   "id": "f7432a60",
   "metadata": {
    "execution": {
     "iopub.execute_input": "2022-05-30T05:33:00.372285Z",
     "iopub.status.busy": "2022-05-30T05:33:00.371717Z",
     "iopub.status.idle": "2022-05-30T05:33:00.385173Z",
     "shell.execute_reply": "2022-05-30T05:33:00.384356Z"
    },
    "papermill": {
     "duration": 0.048925,
     "end_time": "2022-05-30T05:33:00.387408",
     "exception": false,
     "start_time": "2022-05-30T05:33:00.338483",
     "status": "completed"
    },
    "tags": []
   },
   "outputs": [],
   "source": [
    "def clean_cols(df):\n",
    "    # fillna \n",
    "    df['max_power'] = df['max_power'].fillna(df['max_power'].mode()[0])    \n",
    "    df['engine'] = df['engine'].fillna(df['engine'].mode()[0])    \n",
    "    df['mileage'] = df['mileage'].fillna(df['mileage'].mode()[0])    \n",
    "    df['seats'] = df['seats'].fillna(df['seats'].mean())\n",
    "    \n",
    "    engine = df['engine'].astype(str).map(lambda x: x.rstrip(' C'))\n",
    "    df['engine'] = engine.astype(float)\n",
    "    \n",
    "    df['max_power'] = pd.to_numeric(df['max_power'].str.replace(\" bhp\", \"\"))\n",
    "    df['max_power'] = df['max_power'].fillna(df['max_power'].mean())\n",
    "#     df['max_power'].isnull().sum()\n",
    "\n",
    "\n",
    "    df['mileage']=correct_mileage(df)\n",
    "\n",
    "    df['transmission'].replace({'Manual': False,'Automatic': True}, inplace=True)\n",
    "    df = create_dummies(df, 'fuel')\n",
    "    df = create_dummies(df, 'seller_type')\n",
    "    df = create_dummies(df, 'owner')\n",
    "\n",
    "    \n",
    "    df['torque'] = df['torque'].str.split('@',expand=True)[0]  #eliminate the rpm where max-torque can be reached\n",
    "    df['torque'] = df['torque'].str.split('at',expand=True)[0]  #eliminate the rpm where max-torque can be reached\n",
    "    df['torque'] = df['torque'].str.split('/',expand=True)[0]  #eliminate the rpm where max-torque can be reached\n",
    "    \n",
    "    df['torque'] = correct_torque(df)\n",
    "    df['torque'] = pd.to_numeric(df['torque'].map(lambda x: x.rstrip(' nNmM')))\n",
    "    \n",
    "    df['year'] = pd.to_numeric(df['year'])\n",
    "#     df['selling_price'] = pd.to_numeric(df['selling_price'])\n",
    "    df['km_driven'] = pd.to_numeric(df['km_driven'])\n",
    "    return df"
   ]
  },
  {
   "cell_type": "code",
   "execution_count": 9,
   "id": "2aa4d232",
   "metadata": {
    "execution": {
     "iopub.execute_input": "2022-05-30T05:33:00.452841Z",
     "iopub.status.busy": "2022-05-30T05:33:00.452291Z",
     "iopub.status.idle": "2022-05-30T05:33:00.464587Z",
     "shell.execute_reply": "2022-05-30T05:33:00.463550Z"
    },
    "papermill": {
     "duration": 0.047501,
     "end_time": "2022-05-30T05:33:00.466900",
     "exception": false,
     "start_time": "2022-05-30T05:33:00.419399",
     "status": "completed"
    },
    "tags": []
   },
   "outputs": [
    {
     "name": "stdout",
     "output_type": "stream",
     "text": [
      "number of years covered:  28\n"
     ]
    }
   ],
   "source": [
    "print('number of years covered: ', len(train_df['year'].unique()))"
   ]
  },
  {
   "cell_type": "markdown",
   "id": "7ceb1314",
   "metadata": {
    "papermill": {
     "duration": 0.031582,
     "end_time": "2022-05-30T05:33:00.531565",
     "exception": false,
     "start_time": "2022-05-30T05:33:00.499983",
     "status": "completed"
    },
    "tags": []
   },
   "source": [
    "*Should we treat the `year` column as a quantitative column or change it to a categorical column. If then, how can we fit it into the regression model?*"
   ]
  },
  {
   "cell_type": "code",
   "execution_count": 10,
   "id": "5367c793",
   "metadata": {
    "execution": {
     "iopub.execute_input": "2022-05-30T05:33:00.598639Z",
     "iopub.status.busy": "2022-05-30T05:33:00.597893Z",
     "iopub.status.idle": "2022-05-30T05:33:00.835620Z",
     "shell.execute_reply": "2022-05-30T05:33:00.834582Z"
    },
    "papermill": {
     "duration": 0.274165,
     "end_time": "2022-05-30T05:33:00.838016",
     "exception": false,
     "start_time": "2022-05-30T05:33:00.563851",
     "status": "completed"
    },
    "tags": []
   },
   "outputs": [
    {
     "data": {
      "text/html": [
       "<div>\n",
       "<style scoped>\n",
       "    .dataframe tbody tr th:only-of-type {\n",
       "        vertical-align: middle;\n",
       "    }\n",
       "\n",
       "    .dataframe tbody tr th {\n",
       "        vertical-align: top;\n",
       "    }\n",
       "\n",
       "    .dataframe thead th {\n",
       "        text-align: right;\n",
       "    }\n",
       "</style>\n",
       "<table border=\"1\" class=\"dataframe\">\n",
       "  <thead>\n",
       "    <tr style=\"text-align: right;\">\n",
       "      <th></th>\n",
       "      <th>name</th>\n",
       "      <th>year</th>\n",
       "      <th>selling_price</th>\n",
       "      <th>km_driven</th>\n",
       "      <th>transmission</th>\n",
       "      <th>mileage</th>\n",
       "      <th>engine</th>\n",
       "      <th>max_power</th>\n",
       "      <th>torque</th>\n",
       "      <th>seats</th>\n",
       "      <th>...</th>\n",
       "      <th>LPG</th>\n",
       "      <th>Petrol</th>\n",
       "      <th>Dealer</th>\n",
       "      <th>Individual</th>\n",
       "      <th>Trustmark Dealer</th>\n",
       "      <th>First Owner</th>\n",
       "      <th>Fourth &amp; Above Owner</th>\n",
       "      <th>Second Owner</th>\n",
       "      <th>Test Drive Car</th>\n",
       "      <th>Third Owner</th>\n",
       "    </tr>\n",
       "  </thead>\n",
       "  <tbody>\n",
       "    <tr>\n",
       "      <th>0</th>\n",
       "      <td>Tata Nexon 1.5 Revotorq XM</td>\n",
       "      <td>2018</td>\n",
       "      <td>850000</td>\n",
       "      <td>9500</td>\n",
       "      <td>False</td>\n",
       "      <td>21.00</td>\n",
       "      <td>1497.0</td>\n",
       "      <td>108.50</td>\n",
       "      <td>260.00</td>\n",
       "      <td>5.0</td>\n",
       "      <td>...</td>\n",
       "      <td>0</td>\n",
       "      <td>0</td>\n",
       "      <td>0</td>\n",
       "      <td>1</td>\n",
       "      <td>0</td>\n",
       "      <td>1</td>\n",
       "      <td>0</td>\n",
       "      <td>0</td>\n",
       "      <td>0</td>\n",
       "      <td>0</td>\n",
       "    </tr>\n",
       "    <tr>\n",
       "      <th>1</th>\n",
       "      <td>Hyundai i20 Active SX Diesel</td>\n",
       "      <td>2018</td>\n",
       "      <td>750000</td>\n",
       "      <td>30000</td>\n",
       "      <td>False</td>\n",
       "      <td>21.10</td>\n",
       "      <td>1396.0</td>\n",
       "      <td>88.76</td>\n",
       "      <td>219.66</td>\n",
       "      <td>5.0</td>\n",
       "      <td>...</td>\n",
       "      <td>0</td>\n",
       "      <td>0</td>\n",
       "      <td>0</td>\n",
       "      <td>1</td>\n",
       "      <td>0</td>\n",
       "      <td>1</td>\n",
       "      <td>0</td>\n",
       "      <td>0</td>\n",
       "      <td>0</td>\n",
       "      <td>0</td>\n",
       "    </tr>\n",
       "    <tr>\n",
       "      <th>2</th>\n",
       "      <td>Toyota Fortuner 4x2 AT</td>\n",
       "      <td>2015</td>\n",
       "      <td>1500000</td>\n",
       "      <td>80000</td>\n",
       "      <td>True</td>\n",
       "      <td>12.50</td>\n",
       "      <td>2982.0</td>\n",
       "      <td>168.50</td>\n",
       "      <td>360.00</td>\n",
       "      <td>7.0</td>\n",
       "      <td>...</td>\n",
       "      <td>0</td>\n",
       "      <td>0</td>\n",
       "      <td>0</td>\n",
       "      <td>1</td>\n",
       "      <td>0</td>\n",
       "      <td>0</td>\n",
       "      <td>0</td>\n",
       "      <td>1</td>\n",
       "      <td>0</td>\n",
       "      <td>0</td>\n",
       "    </tr>\n",
       "    <tr>\n",
       "      <th>3</th>\n",
       "      <td>Hyundai Verna 1.6 VTVT SX</td>\n",
       "      <td>2015</td>\n",
       "      <td>795000</td>\n",
       "      <td>35000</td>\n",
       "      <td>False</td>\n",
       "      <td>17.00</td>\n",
       "      <td>1591.0</td>\n",
       "      <td>121.30</td>\n",
       "      <td>154.90</td>\n",
       "      <td>5.0</td>\n",
       "      <td>...</td>\n",
       "      <td>0</td>\n",
       "      <td>1</td>\n",
       "      <td>0</td>\n",
       "      <td>1</td>\n",
       "      <td>0</td>\n",
       "      <td>1</td>\n",
       "      <td>0</td>\n",
       "      <td>0</td>\n",
       "      <td>0</td>\n",
       "      <td>0</td>\n",
       "    </tr>\n",
       "    <tr>\n",
       "      <th>4</th>\n",
       "      <td>Volvo XC40 D4 Inscription BSIV</td>\n",
       "      <td>2019</td>\n",
       "      <td>3800000</td>\n",
       "      <td>20000</td>\n",
       "      <td>True</td>\n",
       "      <td>18.00</td>\n",
       "      <td>1969.0</td>\n",
       "      <td>190.00</td>\n",
       "      <td>400.00</td>\n",
       "      <td>5.0</td>\n",
       "      <td>...</td>\n",
       "      <td>0</td>\n",
       "      <td>0</td>\n",
       "      <td>0</td>\n",
       "      <td>1</td>\n",
       "      <td>0</td>\n",
       "      <td>1</td>\n",
       "      <td>0</td>\n",
       "      <td>0</td>\n",
       "      <td>0</td>\n",
       "      <td>0</td>\n",
       "    </tr>\n",
       "    <tr>\n",
       "      <th>...</th>\n",
       "      <td>...</td>\n",
       "      <td>...</td>\n",
       "      <td>...</td>\n",
       "      <td>...</td>\n",
       "      <td>...</td>\n",
       "      <td>...</td>\n",
       "      <td>...</td>\n",
       "      <td>...</td>\n",
       "      <td>...</td>\n",
       "      <td>...</td>\n",
       "      <td>...</td>\n",
       "      <td>...</td>\n",
       "      <td>...</td>\n",
       "      <td>...</td>\n",
       "      <td>...</td>\n",
       "      <td>...</td>\n",
       "      <td>...</td>\n",
       "      <td>...</td>\n",
       "      <td>...</td>\n",
       "      <td>...</td>\n",
       "      <td>...</td>\n",
       "    </tr>\n",
       "    <tr>\n",
       "      <th>5995</th>\n",
       "      <td>Maruti A-Star Lxi</td>\n",
       "      <td>2010</td>\n",
       "      <td>235000</td>\n",
       "      <td>50000</td>\n",
       "      <td>False</td>\n",
       "      <td>19.00</td>\n",
       "      <td>998.0</td>\n",
       "      <td>66.10</td>\n",
       "      <td>90.00</td>\n",
       "      <td>5.0</td>\n",
       "      <td>...</td>\n",
       "      <td>0</td>\n",
       "      <td>1</td>\n",
       "      <td>0</td>\n",
       "      <td>1</td>\n",
       "      <td>0</td>\n",
       "      <td>1</td>\n",
       "      <td>0</td>\n",
       "      <td>0</td>\n",
       "      <td>0</td>\n",
       "      <td>0</td>\n",
       "    </tr>\n",
       "    <tr>\n",
       "      <th>5996</th>\n",
       "      <td>Maruti Wagon R LXI CNG</td>\n",
       "      <td>2018</td>\n",
       "      <td>390000</td>\n",
       "      <td>40000</td>\n",
       "      <td>False</td>\n",
       "      <td>37.24</td>\n",
       "      <td>998.0</td>\n",
       "      <td>58.16</td>\n",
       "      <td>77.00</td>\n",
       "      <td>5.0</td>\n",
       "      <td>...</td>\n",
       "      <td>0</td>\n",
       "      <td>0</td>\n",
       "      <td>0</td>\n",
       "      <td>1</td>\n",
       "      <td>0</td>\n",
       "      <td>1</td>\n",
       "      <td>0</td>\n",
       "      <td>0</td>\n",
       "      <td>0</td>\n",
       "      <td>0</td>\n",
       "    </tr>\n",
       "    <tr>\n",
       "      <th>5997</th>\n",
       "      <td>Tata Tigor 1.2 Revotron XT</td>\n",
       "      <td>2018</td>\n",
       "      <td>450000</td>\n",
       "      <td>75000</td>\n",
       "      <td>False</td>\n",
       "      <td>20.00</td>\n",
       "      <td>1199.0</td>\n",
       "      <td>84.00</td>\n",
       "      <td>114.00</td>\n",
       "      <td>5.0</td>\n",
       "      <td>...</td>\n",
       "      <td>0</td>\n",
       "      <td>1</td>\n",
       "      <td>0</td>\n",
       "      <td>1</td>\n",
       "      <td>0</td>\n",
       "      <td>1</td>\n",
       "      <td>0</td>\n",
       "      <td>0</td>\n",
       "      <td>0</td>\n",
       "      <td>0</td>\n",
       "    </tr>\n",
       "    <tr>\n",
       "      <th>5998</th>\n",
       "      <td>Mahindra Bolero 2011-2019 DI NON AC BS III White</td>\n",
       "      <td>2011</td>\n",
       "      <td>250000</td>\n",
       "      <td>100000</td>\n",
       "      <td>False</td>\n",
       "      <td>15.90</td>\n",
       "      <td>2523.0</td>\n",
       "      <td>63.00</td>\n",
       "      <td>180.00</td>\n",
       "      <td>9.0</td>\n",
       "      <td>...</td>\n",
       "      <td>0</td>\n",
       "      <td>0</td>\n",
       "      <td>0</td>\n",
       "      <td>1</td>\n",
       "      <td>0</td>\n",
       "      <td>0</td>\n",
       "      <td>0</td>\n",
       "      <td>1</td>\n",
       "      <td>0</td>\n",
       "      <td>0</td>\n",
       "    </tr>\n",
       "    <tr>\n",
       "      <th>5999</th>\n",
       "      <td>Honda Amaze SX i-DTEC</td>\n",
       "      <td>2016</td>\n",
       "      <td>550000</td>\n",
       "      <td>35000</td>\n",
       "      <td>False</td>\n",
       "      <td>25.00</td>\n",
       "      <td>1498.0</td>\n",
       "      <td>98.60</td>\n",
       "      <td>200.00</td>\n",
       "      <td>5.0</td>\n",
       "      <td>...</td>\n",
       "      <td>0</td>\n",
       "      <td>0</td>\n",
       "      <td>0</td>\n",
       "      <td>1</td>\n",
       "      <td>0</td>\n",
       "      <td>1</td>\n",
       "      <td>0</td>\n",
       "      <td>0</td>\n",
       "      <td>0</td>\n",
       "      <td>0</td>\n",
       "    </tr>\n",
       "  </tbody>\n",
       "</table>\n",
       "<p>6000 rows × 22 columns</p>\n",
       "</div>"
      ],
      "text/plain": [
       "                                                  name  year  selling_price  \\\n",
       "0                           Tata Nexon 1.5 Revotorq XM  2018         850000   \n",
       "1                         Hyundai i20 Active SX Diesel  2018         750000   \n",
       "2                               Toyota Fortuner 4x2 AT  2015        1500000   \n",
       "3                            Hyundai Verna 1.6 VTVT SX  2015         795000   \n",
       "4                       Volvo XC40 D4 Inscription BSIV  2019        3800000   \n",
       "...                                                ...   ...            ...   \n",
       "5995                                 Maruti A-Star Lxi  2010         235000   \n",
       "5996                            Maruti Wagon R LXI CNG  2018         390000   \n",
       "5997                        Tata Tigor 1.2 Revotron XT  2018         450000   \n",
       "5998  Mahindra Bolero 2011-2019 DI NON AC BS III White  2011         250000   \n",
       "5999                             Honda Amaze SX i-DTEC  2016         550000   \n",
       "\n",
       "      km_driven  transmission  mileage  engine  max_power  torque  seats  ...  \\\n",
       "0          9500         False    21.00  1497.0     108.50  260.00    5.0  ...   \n",
       "1         30000         False    21.10  1396.0      88.76  219.66    5.0  ...   \n",
       "2         80000          True    12.50  2982.0     168.50  360.00    7.0  ...   \n",
       "3         35000         False    17.00  1591.0     121.30  154.90    5.0  ...   \n",
       "4         20000          True    18.00  1969.0     190.00  400.00    5.0  ...   \n",
       "...         ...           ...      ...     ...        ...     ...    ...  ...   \n",
       "5995      50000         False    19.00   998.0      66.10   90.00    5.0  ...   \n",
       "5996      40000         False    37.24   998.0      58.16   77.00    5.0  ...   \n",
       "5997      75000         False    20.00  1199.0      84.00  114.00    5.0  ...   \n",
       "5998     100000         False    15.90  2523.0      63.00  180.00    9.0  ...   \n",
       "5999      35000         False    25.00  1498.0      98.60  200.00    5.0  ...   \n",
       "\n",
       "      LPG  Petrol  Dealer  Individual  Trustmark Dealer  First Owner  \\\n",
       "0       0       0       0           1                 0            1   \n",
       "1       0       0       0           1                 0            1   \n",
       "2       0       0       0           1                 0            0   \n",
       "3       0       1       0           1                 0            1   \n",
       "4       0       0       0           1                 0            1   \n",
       "...   ...     ...     ...         ...               ...          ...   \n",
       "5995    0       1       0           1                 0            1   \n",
       "5996    0       0       0           1                 0            1   \n",
       "5997    0       1       0           1                 0            1   \n",
       "5998    0       0       0           1                 0            0   \n",
       "5999    0       0       0           1                 0            1   \n",
       "\n",
       "      Fourth & Above Owner  Second Owner  Test Drive Car  Third Owner  \n",
       "0                        0             0               0            0  \n",
       "1                        0             0               0            0  \n",
       "2                        0             1               0            0  \n",
       "3                        0             0               0            0  \n",
       "4                        0             0               0            0  \n",
       "...                    ...           ...             ...          ...  \n",
       "5995                     0             0               0            0  \n",
       "5996                     0             0               0            0  \n",
       "5997                     0             0               0            0  \n",
       "5998                     0             1               0            0  \n",
       "5999                     0             0               0            0  \n",
       "\n",
       "[6000 rows x 22 columns]"
      ]
     },
     "execution_count": 10,
     "metadata": {},
     "output_type": "execute_result"
    }
   ],
   "source": [
    "train_df = clean_cols(train_df)\n",
    "train_df['selling_price'] = pd.to_numeric(train_df['selling_price']) \n",
    "    # the clean function works for the test_x also, so it cannot handle the output column\n",
    "train_df"
   ]
  },
  {
   "cell_type": "code",
   "execution_count": 11,
   "id": "c1e4ca4a",
   "metadata": {
    "execution": {
     "iopub.execute_input": "2022-05-30T05:33:00.908910Z",
     "iopub.status.busy": "2022-05-30T05:33:00.907914Z",
     "iopub.status.idle": "2022-05-30T05:33:00.928498Z",
     "shell.execute_reply": "2022-05-30T05:33:00.927815Z"
    },
    "papermill": {
     "duration": 0.059013,
     "end_time": "2022-05-30T05:33:00.931549",
     "exception": false,
     "start_time": "2022-05-30T05:33:00.872536",
     "status": "completed"
    },
    "tags": []
   },
   "outputs": [
    {
     "name": "stdout",
     "output_type": "stream",
     "text": [
      "<class 'pandas.core.frame.DataFrame'>\n",
      "RangeIndex: 6000 entries, 0 to 5999\n",
      "Data columns (total 22 columns):\n",
      " #   Column                Non-Null Count  Dtype  \n",
      "---  ------                --------------  -----  \n",
      " 0   name                  6000 non-null   object \n",
      " 1   year                  6000 non-null   int64  \n",
      " 2   selling_price         6000 non-null   int64  \n",
      " 3   km_driven             6000 non-null   int64  \n",
      " 4   transmission          6000 non-null   bool   \n",
      " 5   mileage               6000 non-null   float64\n",
      " 6   engine                6000 non-null   float64\n",
      " 7   max_power             6000 non-null   float64\n",
      " 8   torque                6000 non-null   float64\n",
      " 9   seats                 6000 non-null   float64\n",
      " 10  CNG                   6000 non-null   uint8  \n",
      " 11  Diesel                6000 non-null   uint8  \n",
      " 12  LPG                   6000 non-null   uint8  \n",
      " 13  Petrol                6000 non-null   uint8  \n",
      " 14  Dealer                6000 non-null   uint8  \n",
      " 15  Individual            6000 non-null   uint8  \n",
      " 16  Trustmark Dealer      6000 non-null   uint8  \n",
      " 17  First Owner           6000 non-null   uint8  \n",
      " 18  Fourth & Above Owner  6000 non-null   uint8  \n",
      " 19  Second Owner          6000 non-null   uint8  \n",
      " 20  Test Drive Car        6000 non-null   uint8  \n",
      " 21  Third Owner           6000 non-null   uint8  \n",
      "dtypes: bool(1), float64(5), int64(3), object(1), uint8(12)\n",
      "memory usage: 498.2+ KB\n"
     ]
    }
   ],
   "source": [
    "train_df.info()"
   ]
  },
  {
   "cell_type": "code",
   "execution_count": 12,
   "id": "589eb266",
   "metadata": {
    "execution": {
     "iopub.execute_input": "2022-05-30T05:33:01.002205Z",
     "iopub.status.busy": "2022-05-30T05:33:01.001881Z",
     "iopub.status.idle": "2022-05-30T05:33:01.012559Z",
     "shell.execute_reply": "2022-05-30T05:33:01.011729Z"
    },
    "papermill": {
     "duration": 0.047642,
     "end_time": "2022-05-30T05:33:01.014658",
     "exception": false,
     "start_time": "2022-05-30T05:33:00.967016",
     "status": "completed"
    },
    "tags": []
   },
   "outputs": [
    {
     "data": {
      "text/plain": [
       "name                    0\n",
       "year                    0\n",
       "selling_price           0\n",
       "km_driven               0\n",
       "transmission            0\n",
       "mileage                 0\n",
       "engine                  0\n",
       "max_power               0\n",
       "torque                  0\n",
       "seats                   0\n",
       "CNG                     0\n",
       "Diesel                  0\n",
       "LPG                     0\n",
       "Petrol                  0\n",
       "Dealer                  0\n",
       "Individual              0\n",
       "Trustmark Dealer        0\n",
       "First Owner             0\n",
       "Fourth & Above Owner    0\n",
       "Second Owner            0\n",
       "Test Drive Car          0\n",
       "Third Owner             0\n",
       "dtype: int64"
      ]
     },
     "execution_count": 12,
     "metadata": {},
     "output_type": "execute_result"
    }
   ],
   "source": [
    "train_df.isnull().sum()"
   ]
  },
  {
   "cell_type": "markdown",
   "id": "6594f6e1",
   "metadata": {
    "papermill": {
     "duration": 0.033607,
     "end_time": "2022-05-30T05:33:01.084068",
     "exception": false,
     "start_time": "2022-05-30T05:33:01.050461",
     "status": "completed"
    },
    "tags": []
   },
   "source": [
    "## 2. Plotting (if needed)"
   ]
  },
  {
   "cell_type": "markdown",
   "id": "49f21468",
   "metadata": {
    "papermill": {
     "duration": 0.033669,
     "end_time": "2022-05-30T05:33:01.151518",
     "exception": false,
     "start_time": "2022-05-30T05:33:01.117849",
     "status": "completed"
    },
    "tags": []
   },
   "source": [
    "## 3. Build ML Model, Evaluate"
   ]
  },
  {
   "cell_type": "code",
   "execution_count": 13,
   "id": "cf160352",
   "metadata": {
    "execution": {
     "iopub.execute_input": "2022-05-30T05:33:01.220416Z",
     "iopub.status.busy": "2022-05-30T05:33:01.220165Z",
     "iopub.status.idle": "2022-05-30T05:33:04.210036Z",
     "shell.execute_reply": "2022-05-30T05:33:04.209135Z"
    },
    "papermill": {
     "duration": 3.027541,
     "end_time": "2022-05-30T05:33:04.212830",
     "exception": false,
     "start_time": "2022-05-30T05:33:01.185289",
     "status": "completed"
    },
    "tags": []
   },
   "outputs": [
    {
     "data": {
      "text/html": [
       "<style type='text/css'>\n",
       ".datatable table.frame { margin-bottom: 0; }\n",
       ".datatable table.frame thead { border-bottom: none; }\n",
       ".datatable table.frame tr.coltypes td {  color: #FFFFFF;  line-height: 6px;  padding: 0 0.5em;}\n",
       ".datatable .bool    { background: #DDDD99; }\n",
       ".datatable .object  { background: #565656; }\n",
       ".datatable .int     { background: #5D9E5D; }\n",
       ".datatable .float   { background: #4040CC; }\n",
       ".datatable .str     { background: #CC4040; }\n",
       ".datatable .time    { background: #40CC40; }\n",
       ".datatable .row_index {  background: var(--jp-border-color3);  border-right: 1px solid var(--jp-border-color0);  color: var(--jp-ui-font-color3);  font-size: 9px;}\n",
       ".datatable .frame tbody td { text-align: left; }\n",
       ".datatable .frame tr.coltypes .row_index {  background: var(--jp-border-color0);}\n",
       ".datatable th:nth-child(2) { padding-left: 12px; }\n",
       ".datatable .hellipsis {  color: var(--jp-cell-editor-border-color);}\n",
       ".datatable .vellipsis {  background: var(--jp-layout-color0);  color: var(--jp-cell-editor-border-color);}\n",
       ".datatable .na {  color: var(--jp-cell-editor-border-color);  font-size: 80%;}\n",
       ".datatable .sp {  opacity: 0.25;}\n",
       ".datatable .footer { font-size: 9px; }\n",
       ".datatable .frame_dimensions {  background: var(--jp-border-color3);  border-top: 1px solid var(--jp-border-color0);  color: var(--jp-ui-font-color3);  display: inline-block;  opacity: 0.6;  padding: 1px 10px 1px 5px;}\n",
       "</style>\n"
      ],
      "text/plain": [
       "<IPython.core.display.HTML object>"
      ]
     },
     "metadata": {},
     "output_type": "display_data"
    }
   ],
   "source": [
    "from sklearn.preprocessing import StandardScaler\n",
    "from sklearn.model_selection import train_test_split\n",
    "from sklearn.metrics import mean_squared_error\n",
    "from sklearn.metrics import r2_score\n",
    "\n",
    "# models\n",
    "from sklearn.linear_model import LinearRegression\n",
    "from sklearn.ensemble import RandomForestRegressor\n",
    "from sklearn.ensemble import GradientBoostingRegressor\n",
    "from sklearn.linear_model import ElasticNet\n",
    "from sklearn.linear_model import SGDRegressor\n",
    "from sklearn.svm import SVR\n",
    "from sklearn.linear_model import BayesianRidge\n",
    "from catboost import CatBoostRegressor\n",
    "from sklearn.kernel_ridge import KernelRidge\n",
    "from xgboost.sklearn import XGBRegressor\n",
    "from lightgbm import LGBMRegressor"
   ]
  },
  {
   "cell_type": "code",
   "execution_count": 14,
   "id": "bb4c8385",
   "metadata": {
    "execution": {
     "iopub.execute_input": "2022-05-30T05:33:04.284666Z",
     "iopub.status.busy": "2022-05-30T05:33:04.284006Z",
     "iopub.status.idle": "2022-05-30T05:33:04.291653Z",
     "shell.execute_reply": "2022-05-30T05:33:04.290887Z"
    },
    "papermill": {
     "duration": 0.046238,
     "end_time": "2022-05-30T05:33:04.293814",
     "exception": false,
     "start_time": "2022-05-30T05:33:04.247576",
     "status": "completed"
    },
    "tags": []
   },
   "outputs": [],
   "source": [
    "train_x = train_df.drop(['name','selling_price'], axis=1)\n",
    "train_y = train_df['selling_price']\n",
    "# train_x.head()"
   ]
  },
  {
   "cell_type": "code",
   "execution_count": 15,
   "id": "66782a76",
   "metadata": {
    "execution": {
     "iopub.execute_input": "2022-05-30T05:33:04.365028Z",
     "iopub.status.busy": "2022-05-30T05:33:04.364662Z",
     "iopub.status.idle": "2022-05-30T05:33:04.373967Z",
     "shell.execute_reply": "2022-05-30T05:33:04.373183Z"
    },
    "papermill": {
     "duration": 0.047093,
     "end_time": "2022-05-30T05:33:04.376188",
     "exception": false,
     "start_time": "2022-05-30T05:33:04.329095",
     "status": "completed"
    },
    "tags": []
   },
   "outputs": [],
   "source": [
    "x_train, x_test, y_train, y_test = train_test_split(train_x, train_y, test_size=0.2)\n",
    "# x_test.head()"
   ]
  },
  {
   "cell_type": "code",
   "execution_count": 16,
   "id": "8196506b",
   "metadata": {
    "execution": {
     "iopub.execute_input": "2022-05-30T05:33:04.446806Z",
     "iopub.status.busy": "2022-05-30T05:33:04.446107Z",
     "iopub.status.idle": "2022-05-30T05:33:04.491710Z",
     "shell.execute_reply": "2022-05-30T05:33:04.491007Z"
    },
    "papermill": {
     "duration": 0.083192,
     "end_time": "2022-05-30T05:33:04.493918",
     "exception": false,
     "start_time": "2022-05-30T05:33:04.410726",
     "status": "completed"
    },
    "tags": []
   },
   "outputs": [],
   "source": [
    "scaler = StandardScaler()\n",
    "\n",
    "x_train = scaler.fit_transform(x_train)\n",
    "x_train = pd.DataFrame(x_train)\n",
    "\n",
    "x_test = scaler.transform(x_test)\n",
    "x_test = pd.DataFrame(x_test)"
   ]
  },
  {
   "cell_type": "code",
   "execution_count": 17,
   "id": "c0bcfdd7",
   "metadata": {
    "execution": {
     "iopub.execute_input": "2022-05-30T05:33:04.566243Z",
     "iopub.status.busy": "2022-05-30T05:33:04.565150Z",
     "iopub.status.idle": "2022-05-30T05:33:04.571370Z",
     "shell.execute_reply": "2022-05-30T05:33:04.570340Z"
    },
    "papermill": {
     "duration": 0.045461,
     "end_time": "2022-05-30T05:33:04.573927",
     "exception": false,
     "start_time": "2022-05-30T05:33:04.528466",
     "status": "completed"
    },
    "tags": []
   },
   "outputs": [],
   "source": [
    "def choose_model(model,x_train, y_train, x_test, y_test):\n",
    "    model.fit(x_train, y_train)\n",
    "    \n",
    "    y_pred = model.predict(x_test)\n",
    "    print(model, ': ', r2_score(y_test, y_pred)*100)"
   ]
  },
  {
   "cell_type": "code",
   "execution_count": 18,
   "id": "ed00bef7",
   "metadata": {
    "execution": {
     "iopub.execute_input": "2022-05-30T05:33:04.646686Z",
     "iopub.status.busy": "2022-05-30T05:33:04.646391Z",
     "iopub.status.idle": "2022-05-30T05:33:04.659301Z",
     "shell.execute_reply": "2022-05-30T05:33:04.658641Z"
    },
    "papermill": {
     "duration": 0.052368,
     "end_time": "2022-05-30T05:33:04.661033",
     "exception": false,
     "start_time": "2022-05-30T05:33:04.608665",
     "status": "completed"
    },
    "tags": []
   },
   "outputs": [
    {
     "data": {
      "text/plain": [
       "'\\nLinearRegression()            :  69.2257634658105\\nRandomForestRegressor()       : *97.24647771100324\\nGradientBoostingRegressor()   :  96.32895417913836\\nElasticNet()                  :  65.96430194659088\\nSGDRegressor()                :  69.24396850407688\\nSVR()                         :  -6.134803613175466\\nLGBMRegressor()               :  97.12046589150343\\nXGBRegressor                  : *97.88731455224878\\nKernelRidge()                 :  11.760389563391193\\nCatBoostRegressor             :  97.78103976436073\\nBayesianRidge()               :  69.20008943409499\\n'"
      ]
     },
     "execution_count": 18,
     "metadata": {},
     "output_type": "execute_result"
    }
   ],
   "source": [
    "models = [LinearRegression(), RandomForestRegressor(),GradientBoostingRegressor(), ElasticNet(), SGDRegressor(), \n",
    "          SVR(), LGBMRegressor(), XGBRegressor(), KernelRidge(), CatBoostRegressor(), BayesianRidge()]\n",
    "\n",
    "# for model in models:\n",
    "#     choose_model(model, x_train, y_train, x_test, y_test)\n",
    "\"\"\"\n",
    "LinearRegression()            :  69.2257634658105\n",
    "RandomForestRegressor()       : *97.24647771100324\n",
    "GradientBoostingRegressor()   :  96.32895417913836\n",
    "ElasticNet()                  :  65.96430194659088\n",
    "SGDRegressor()                :  69.24396850407688\n",
    "SVR()                         :  -6.134803613175466\n",
    "LGBMRegressor()               :  97.12046589150343\n",
    "XGBRegressor                  : *97.88731455224878\n",
    "KernelRidge()                 :  11.760389563391193\n",
    "CatBoostRegressor             :  97.78103976436073\n",
    "BayesianRidge()               :  69.20008943409499\n",
    "\"\"\" \n"
   ]
  },
  {
   "cell_type": "markdown",
   "id": "0a1d0edb",
   "metadata": {
    "papermill": {
     "duration": 0.034571,
     "end_time": "2022-05-30T05:33:04.730859",
     "exception": false,
     "start_time": "2022-05-30T05:33:04.696288",
     "status": "completed"
    },
    "tags": []
   },
   "source": [
    "Note: r2_score of `RandomForestRegressor` is 96.5% so we can use it as the model to predict our result"
   ]
  },
  {
   "cell_type": "markdown",
   "id": "da32105b",
   "metadata": {
    "papermill": {
     "duration": 0.034536,
     "end_time": "2022-05-30T05:33:04.800875",
     "exception": false,
     "start_time": "2022-05-30T05:33:04.766339",
     "status": "completed"
    },
    "tags": []
   },
   "source": [
    "## 4. Test-submit"
   ]
  },
  {
   "cell_type": "code",
   "execution_count": 19,
   "id": "817506e8",
   "metadata": {
    "execution": {
     "iopub.execute_input": "2022-05-30T05:33:04.875505Z",
     "iopub.status.busy": "2022-05-30T05:33:04.874117Z",
     "iopub.status.idle": "2022-05-30T05:33:04.900431Z",
     "shell.execute_reply": "2022-05-30T05:33:04.899719Z"
    },
    "papermill": {
     "duration": 0.066662,
     "end_time": "2022-05-30T05:33:04.902910",
     "exception": false,
     "start_time": "2022-05-30T05:33:04.836248",
     "status": "completed"
    },
    "tags": []
   },
   "outputs": [],
   "source": [
    "test_x = pd.read_csv('../input/airesidency/test.csv', sep=';')"
   ]
  },
  {
   "cell_type": "code",
   "execution_count": 20,
   "id": "3e29bf82",
   "metadata": {
    "execution": {
     "iopub.execute_input": "2022-05-30T05:33:04.977377Z",
     "iopub.status.busy": "2022-05-30T05:33:04.976803Z",
     "iopub.status.idle": "2022-05-30T05:33:05.032008Z",
     "shell.execute_reply": "2022-05-30T05:33:05.031393Z"
    },
    "papermill": {
     "duration": 0.094941,
     "end_time": "2022-05-30T05:33:05.034365",
     "exception": false,
     "start_time": "2022-05-30T05:33:04.939424",
     "status": "completed"
    },
    "tags": []
   },
   "outputs": [],
   "source": [
    "test_x = clean_cols(test_x)\n",
    "test_x = test_x.drop(['id','name'], axis=1)"
   ]
  },
  {
   "cell_type": "code",
   "execution_count": 21,
   "id": "3ba884f7",
   "metadata": {
    "execution": {
     "iopub.execute_input": "2022-05-30T05:33:05.106698Z",
     "iopub.status.busy": "2022-05-30T05:33:05.106417Z",
     "iopub.status.idle": "2022-05-30T05:33:05.114132Z",
     "shell.execute_reply": "2022-05-30T05:33:05.113230Z"
    },
    "papermill": {
     "duration": 0.047037,
     "end_time": "2022-05-30T05:33:05.116180",
     "exception": false,
     "start_time": "2022-05-30T05:33:05.069143",
     "status": "completed"
    },
    "tags": []
   },
   "outputs": [],
   "source": [
    "# add a column to fit with the train dataset\n",
    "test_x['Test Drive Car'] = 0\n",
    "\n",
    "cols = pd.DataFrame(test_x).columns.tolist()\n",
    "tmp = cols[-1]\n",
    "cols[-1] = cols[-2]\n",
    "cols[-2] = tmp\n",
    "\n",
    "test_x = test_x[cols]\n",
    "# cols"
   ]
  },
  {
   "cell_type": "code",
   "execution_count": 22,
   "id": "e245b3b2",
   "metadata": {
    "execution": {
     "iopub.execute_input": "2022-05-30T05:33:05.188299Z",
     "iopub.status.busy": "2022-05-30T05:33:05.187645Z",
     "iopub.status.idle": "2022-05-30T05:33:05.193610Z",
     "shell.execute_reply": "2022-05-30T05:33:05.192647Z"
    },
    "papermill": {
     "duration": 0.04399,
     "end_time": "2022-05-30T05:33:05.196009",
     "exception": false,
     "start_time": "2022-05-30T05:33:05.152019",
     "status": "completed"
    },
    "tags": []
   },
   "outputs": [
    {
     "name": "stdout",
     "output_type": "stream",
     "text": [
      "[ True  True  True  True  True  True  True  True  True  True  True  True\n",
      "  True  True  True  True  True  True  True  True]\n"
     ]
    }
   ],
   "source": [
    " print(pd.DataFrame(test_x).columns == train_x.columns)  #compare columns of train&test"
   ]
  },
  {
   "cell_type": "code",
   "execution_count": 23,
   "id": "f8ec860a",
   "metadata": {
    "execution": {
     "iopub.execute_input": "2022-05-30T05:33:05.270070Z",
     "iopub.status.busy": "2022-05-30T05:33:05.269133Z",
     "iopub.status.idle": "2022-05-30T05:33:05.283966Z",
     "shell.execute_reply": "2022-05-30T05:33:05.282957Z"
    },
    "papermill": {
     "duration": 0.055178,
     "end_time": "2022-05-30T05:33:05.286367",
     "exception": false,
     "start_time": "2022-05-30T05:33:05.231189",
     "status": "completed"
    },
    "tags": []
   },
   "outputs": [],
   "source": [
    "test_x = scaler.transform(test_x)"
   ]
  },
  {
   "cell_type": "code",
   "execution_count": 24,
   "id": "debc1c8a",
   "metadata": {
    "execution": {
     "iopub.execute_input": "2022-05-30T05:33:05.362331Z",
     "iopub.status.busy": "2022-05-30T05:33:05.361715Z",
     "iopub.status.idle": "2022-05-30T05:33:07.520039Z",
     "shell.execute_reply": "2022-05-30T05:33:07.519101Z"
    },
    "papermill": {
     "duration": 2.200619,
     "end_time": "2022-05-30T05:33:07.522815",
     "exception": false,
     "start_time": "2022-05-30T05:33:05.322196",
     "status": "completed"
    },
    "tags": []
   },
   "outputs": [
    {
     "name": "stderr",
     "output_type": "stream",
     "text": [
      "/opt/conda/lib/python3.7/site-packages/sklearn/base.py:451: UserWarning: X does not have valid feature names, but RandomForestRegressor was fitted with feature names\n",
      "  \"X does not have valid feature names, but\"\n"
     ]
    },
    {
     "data": {
      "text/plain": [
       "array([63093.96, 61367.92, 61367.92, ..., 68120.  , 68120.  , 62143.96])"
      ]
     },
     "execution_count": 24,
     "metadata": {},
     "output_type": "execute_result"
    }
   ],
   "source": [
    "model = RandomForestRegressor()\n",
    "model.fit(train_x, train_y)        # the complete dataset from train.csv\n",
    "y_pred = model.predict(test_x)\n",
    "y_pred"
   ]
  },
  {
   "cell_type": "code",
   "execution_count": 25,
   "id": "7109b26d",
   "metadata": {
    "execution": {
     "iopub.execute_input": "2022-05-30T05:33:07.598559Z",
     "iopub.status.busy": "2022-05-30T05:33:07.598270Z",
     "iopub.status.idle": "2022-05-30T05:33:07.614676Z",
     "shell.execute_reply": "2022-05-30T05:33:07.613693Z"
    },
    "papermill": {
     "duration": 0.055597,
     "end_time": "2022-05-30T05:33:07.616849",
     "exception": false,
     "start_time": "2022-05-30T05:33:07.561252",
     "status": "completed"
    },
    "tags": []
   },
   "outputs": [
    {
     "data": {
      "text/html": [
       "<div>\n",
       "<style scoped>\n",
       "    .dataframe tbody tr th:only-of-type {\n",
       "        vertical-align: middle;\n",
       "    }\n",
       "\n",
       "    .dataframe tbody tr th {\n",
       "        vertical-align: top;\n",
       "    }\n",
       "\n",
       "    .dataframe thead th {\n",
       "        text-align: right;\n",
       "    }\n",
       "</style>\n",
       "<table border=\"1\" class=\"dataframe\">\n",
       "  <thead>\n",
       "    <tr style=\"text-align: right;\">\n",
       "      <th></th>\n",
       "      <th>Id</th>\n",
       "      <th>Expected</th>\n",
       "    </tr>\n",
       "  </thead>\n",
       "  <tbody>\n",
       "    <tr>\n",
       "      <th>0</th>\n",
       "      <td>1</td>\n",
       "      <td>63093.96</td>\n",
       "    </tr>\n",
       "    <tr>\n",
       "      <th>1</th>\n",
       "      <td>2</td>\n",
       "      <td>61367.92</td>\n",
       "    </tr>\n",
       "    <tr>\n",
       "      <th>2</th>\n",
       "      <td>3</td>\n",
       "      <td>61367.92</td>\n",
       "    </tr>\n",
       "    <tr>\n",
       "      <th>3</th>\n",
       "      <td>4</td>\n",
       "      <td>70241.93</td>\n",
       "    </tr>\n",
       "    <tr>\n",
       "      <th>4</th>\n",
       "      <td>5</td>\n",
       "      <td>71017.97</td>\n",
       "    </tr>\n",
       "    <tr>\n",
       "      <th>...</th>\n",
       "      <td>...</td>\n",
       "      <td>...</td>\n",
       "    </tr>\n",
       "    <tr>\n",
       "      <th>2123</th>\n",
       "      <td>2124</td>\n",
       "      <td>62143.96</td>\n",
       "    </tr>\n",
       "    <tr>\n",
       "      <th>2124</th>\n",
       "      <td>2125</td>\n",
       "      <td>68120.00</td>\n",
       "    </tr>\n",
       "    <tr>\n",
       "      <th>2125</th>\n",
       "      <td>2126</td>\n",
       "      <td>68120.00</td>\n",
       "    </tr>\n",
       "    <tr>\n",
       "      <th>2126</th>\n",
       "      <td>2127</td>\n",
       "      <td>68120.00</td>\n",
       "    </tr>\n",
       "    <tr>\n",
       "      <th>2127</th>\n",
       "      <td>2128</td>\n",
       "      <td>62143.96</td>\n",
       "    </tr>\n",
       "  </tbody>\n",
       "</table>\n",
       "<p>2128 rows × 2 columns</p>\n",
       "</div>"
      ],
      "text/plain": [
       "        Id  Expected\n",
       "0        1  63093.96\n",
       "1        2  61367.92\n",
       "2        3  61367.92\n",
       "3        4  70241.93\n",
       "4        5  71017.97\n",
       "...    ...       ...\n",
       "2123  2124  62143.96\n",
       "2124  2125  68120.00\n",
       "2125  2126  68120.00\n",
       "2126  2127  68120.00\n",
       "2127  2128  62143.96\n",
       "\n",
       "[2128 rows x 2 columns]"
      ]
     },
     "execution_count": 25,
     "metadata": {},
     "output_type": "execute_result"
    }
   ],
   "source": [
    "y_submit = pd.DataFrame(y_pred)\n",
    "y_submit.insert(0, 'Id', range(1, 1+len(y_submit)))\n",
    "\n",
    "y_submit.rename(columns={0:'Expected'}, inplace=True)\n",
    "y_submit"
   ]
  },
  {
   "cell_type": "code",
   "execution_count": 26,
   "id": "cea804eb",
   "metadata": {
    "execution": {
     "iopub.execute_input": "2022-05-30T05:33:07.691949Z",
     "iopub.status.busy": "2022-05-30T05:33:07.691624Z",
     "iopub.status.idle": "2022-05-30T05:33:07.695185Z",
     "shell.execute_reply": "2022-05-30T05:33:07.694514Z"
    },
    "papermill": {
     "duration": 0.043637,
     "end_time": "2022-05-30T05:33:07.697251",
     "exception": false,
     "start_time": "2022-05-30T05:33:07.653614",
     "status": "completed"
    },
    "tags": []
   },
   "outputs": [],
   "source": [
    "## export to .csv file\n",
    "# y_submit.to_csv('preds-AIREsidencyPractice12.csv',index=False)"
   ]
  }
 ],
 "metadata": {
  "kernelspec": {
   "display_name": "Python 3",
   "language": "python",
   "name": "python3"
  },
  "language_info": {
   "codemirror_mode": {
    "name": "ipython",
    "version": 3
   },
   "file_extension": ".py",
   "mimetype": "text/x-python",
   "name": "python",
   "nbconvert_exporter": "python",
   "pygments_lexer": "ipython3",
   "version": "3.7.12"
  },
  "papermill": {
   "default_parameters": {},
   "duration": 19.396514,
   "end_time": "2022-05-30T05:33:08.554792",
   "environment_variables": {},
   "exception": null,
   "input_path": "__notebook__.ipynb",
   "output_path": "__notebook__.ipynb",
   "parameters": {},
   "start_time": "2022-05-30T05:32:49.158278",
   "version": "2.3.4"
  }
 },
 "nbformat": 4,
 "nbformat_minor": 5
}
